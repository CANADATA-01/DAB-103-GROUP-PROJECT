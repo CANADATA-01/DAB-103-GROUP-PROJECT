{
 "cells": [
  {
   "cell_type": "code",
   "execution_count": 1,
   "id": "a55cdc63",
   "metadata": {},
   "outputs": [],
   "source": [
    "import numpy as np\n",
    "import pandas as pd \n",
    "import matplotlib.pyplot as plt\n",
    "import matplotlib as mpl\n",
    "%matplotlib inline\n",
    "import seaborn as sns"
   ]
  },
  {
   "cell_type": "code",
   "execution_count": 17,
   "id": "dfdb51fb",
   "metadata": {},
   "outputs": [],
   "source": [
    "# loading the .csv file.\n",
    "casualties=pd.read_excel('2_casualties.csv')"
   ]
  },
  {
   "cell_type": "code",
   "execution_count": 18,
   "id": "9354b341",
   "metadata": {},
   "outputs": [
    {
     "data": {
      "text/html": [
       "<div>\n",
       "<style scoped>\n",
       "    .dataframe tbody tr th:only-of-type {\n",
       "        vertical-align: middle;\n",
       "    }\n",
       "\n",
       "    .dataframe tbody tr th {\n",
       "        vertical-align: top;\n",
       "    }\n",
       "\n",
       "    .dataframe thead th {\n",
       "        text-align: right;\n",
       "    }\n",
       "</style>\n",
       "<table border=\"1\" class=\"dataframe\">\n",
       "  <thead>\n",
       "    <tr style=\"text-align: right;\">\n",
       "      <th></th>\n",
       "      <th>Crash_Ref_Number</th>\n",
       "      <th>Casualty_AgeGroup</th>\n",
       "      <th>Casualty_Gender</th>\n",
       "      <th>Casualty_RoadUserType</th>\n",
       "    </tr>\n",
       "  </thead>\n",
       "  <tbody>\n",
       "    <tr>\n",
       "      <th>0</th>\n",
       "      <td>1</td>\n",
       "      <td>17 to 24</td>\n",
       "      <td>Female</td>\n",
       "      <td>Bicyclist</td>\n",
       "    </tr>\n",
       "    <tr>\n",
       "      <th>1</th>\n",
       "      <td>2</td>\n",
       "      <td>30 to 39</td>\n",
       "      <td>Female</td>\n",
       "      <td>Motorcyclist</td>\n",
       "    </tr>\n",
       "    <tr>\n",
       "      <th>2</th>\n",
       "      <td>3</td>\n",
       "      <td>60 to 74</td>\n",
       "      <td>Female</td>\n",
       "      <td>Driver</td>\n",
       "    </tr>\n",
       "    <tr>\n",
       "      <th>3</th>\n",
       "      <td>4</td>\n",
       "      <td>40 to 49</td>\n",
       "      <td>Male</td>\n",
       "      <td>Motorcyclist</td>\n",
       "    </tr>\n",
       "    <tr>\n",
       "      <th>4</th>\n",
       "      <td>5</td>\n",
       "      <td>30 to 39</td>\n",
       "      <td>Female</td>\n",
       "      <td>Passenger</td>\n",
       "    </tr>\n",
       "  </tbody>\n",
       "</table>\n",
       "</div>"
      ],
      "text/plain": [
       "   Crash_Ref_Number Casualty_AgeGroup Casualty_Gender Casualty_RoadUserType\n",
       "0                 1          17 to 24          Female             Bicyclist\n",
       "1                 2          30 to 39          Female          Motorcyclist\n",
       "2                 3          60 to 74          Female                Driver\n",
       "3                 4          40 to 49            Male          Motorcyclist\n",
       "4                 5          30 to 39          Female             Passenger"
      ]
     },
     "execution_count": 18,
     "metadata": {},
     "output_type": "execute_result"
    }
   ],
   "source": [
    "casualties.head()"
   ]
  },
  {
   "cell_type": "code",
   "execution_count": 20,
   "id": "dd9f2a99",
   "metadata": {},
   "outputs": [
    {
     "name": "stdout",
     "output_type": "stream",
     "text": [
      "<class 'pandas.core.frame.DataFrame'>\n",
      "RangeIndex: 427102 entries, 0 to 427101\n",
      "Data columns (total 4 columns):\n",
      " #   Column                 Non-Null Count   Dtype \n",
      "---  ------                 --------------   ----- \n",
      " 0   Crash_Ref_Number       427102 non-null  int64 \n",
      " 1   Casualty_AgeGroup      427102 non-null  object\n",
      " 2   Casualty_Gender        427102 non-null  object\n",
      " 3   Casualty_RoadUserType  427102 non-null  object\n",
      "dtypes: int64(1), object(3)\n",
      "memory usage: 13.0+ MB\n"
     ]
    }
   ],
   "source": [
    "casualties.info()"
   ]
  },
  {
   "cell_type": "code",
   "execution_count": 21,
   "id": "e97710ec",
   "metadata": {},
   "outputs": [
    {
     "data": {
      "text/plain": [
       "Crash_Ref_Number         0\n",
       "Casualty_AgeGroup        0\n",
       "Casualty_Gender          0\n",
       "Casualty_RoadUserType    0\n",
       "dtype: int64"
      ]
     },
     "execution_count": 21,
     "metadata": {},
     "output_type": "execute_result"
    }
   ],
   "source": [
    "#checking for missing values\n",
    "casualties.isnull().sum()"
   ]
  },
  {
   "cell_type": "code",
   "execution_count": 23,
   "id": "cefde2f6",
   "metadata": {},
   "outputs": [
    {
     "name": "stdout",
     "output_type": "stream",
     "text": [
      "        Crash_Ref_Number Casualty_AgeGroup Casualty_Gender  \\\n",
      "0                      1          17 to 24          Female   \n",
      "1                      2          30 to 39          Female   \n",
      "2                      3          60 to 74          Female   \n",
      "3                      4          40 to 49            Male   \n",
      "4                      5          30 to 39          Female   \n",
      "...                  ...               ...             ...   \n",
      "427097            427098           0 to 16          Female   \n",
      "427098            427099          60 to 74         Unknown   \n",
      "427099            427100          50 to 59            Male   \n",
      "427100            427101           Unknown          Female   \n",
      "427101            427102          60 to 74            Male   \n",
      "\n",
      "       Casualty_RoadUserType  \n",
      "0                  Bicyclist  \n",
      "1               Motorcyclist  \n",
      "2                     Driver  \n",
      "3               Motorcyclist  \n",
      "4                  Passenger  \n",
      "...                      ...  \n",
      "427097             Passenger  \n",
      "427098                Driver  \n",
      "427099          Motorcyclist  \n",
      "427100             Passenger  \n",
      "427101            Pedestrian  \n",
      "\n",
      "[427102 rows x 4 columns]\n"
     ]
    }
   ],
   "source": [
    "print(casualties)"
   ]
  },
  {
   "cell_type": "code",
   "execution_count": 24,
   "id": "7859275f",
   "metadata": {},
   "outputs": [],
   "source": [
    "casualties_columns_renamed=casualties.rename(columns={'Casualty_AgeGroup': 'AgeGroup', 'Casualty_Gender':'Gender', 'Casualty_RoadUserType':'RoadUserType'})"
   ]
  },
  {
   "cell_type": "code",
   "execution_count": 25,
   "id": "0c09c8e3",
   "metadata": {},
   "outputs": [
    {
     "name": "stdout",
     "output_type": "stream",
     "text": [
      "        Crash_Ref_Number  AgeGroup   Gender  RoadUserType\n",
      "0                      1  17 to 24   Female     Bicyclist\n",
      "1                      2  30 to 39   Female  Motorcyclist\n",
      "2                      3  60 to 74   Female        Driver\n",
      "3                      4  40 to 49     Male  Motorcyclist\n",
      "4                      5  30 to 39   Female     Passenger\n",
      "...                  ...       ...      ...           ...\n",
      "427097            427098   0 to 16   Female     Passenger\n",
      "427098            427099  60 to 74  Unknown        Driver\n",
      "427099            427100  50 to 59     Male  Motorcyclist\n",
      "427100            427101   Unknown   Female     Passenger\n",
      "427101            427102  60 to 74     Male    Pedestrian\n",
      "\n",
      "[427102 rows x 4 columns]\n"
     ]
    }
   ],
   "source": [
    "print(casualties_columns_renamed)"
   ]
  },
  {
   "cell_type": "code",
   "execution_count": 26,
   "id": "5ed61ace",
   "metadata": {},
   "outputs": [
    {
     "name": "stdout",
     "output_type": "stream",
     "text": [
      "        Crash_Ref_Number Casualty_AgeGroup Casualty_Gender  \\\n",
      "0                      1          17 to 24          Female   \n",
      "1                      2          30 to 39          Female   \n",
      "2                      3          60 to 74          Female   \n",
      "3                      4          40 to 49            Male   \n",
      "4                      5          30 to 39          Female   \n",
      "...                  ...               ...             ...   \n",
      "427097            427098           0 to 16          Female   \n",
      "427098            427099          60 to 74         Unknown   \n",
      "427099            427100          50 to 59            Male   \n",
      "427100            427101           Unknown          Female   \n",
      "427101            427102          60 to 74            Male   \n",
      "\n",
      "       Casualty_RoadUserType  \n",
      "0                  Bicyclist  \n",
      "1               Motorcyclist  \n",
      "2                     Driver  \n",
      "3               Motorcyclist  \n",
      "4                  Passenger  \n",
      "...                      ...  \n",
      "427097             Passenger  \n",
      "427098                Driver  \n",
      "427099          Motorcyclist  \n",
      "427100             Passenger  \n",
      "427101            Pedestrian  \n",
      "\n",
      "[427102 rows x 4 columns]\n"
     ]
    }
   ],
   "source": [
    "print(casualties)"
   ]
  },
  {
   "cell_type": "code",
   "execution_count": 27,
   "id": "6ef815df",
   "metadata": {},
   "outputs": [],
   "source": [
    "casualties_columns_renamed.to_csv(\"casualties.csv\")"
   ]
  },
  {
   "cell_type": "code",
   "execution_count": null,
   "id": "fe16bac9",
   "metadata": {},
   "outputs": [],
   "source": []
  }
 ],
 "metadata": {
  "kernelspec": {
   "display_name": "Python 3 (ipykernel)",
   "language": "python",
   "name": "python3"
  },
  "language_info": {
   "codemirror_mode": {
    "name": "ipython",
    "version": 3
   },
   "file_extension": ".py",
   "mimetype": "text/x-python",
   "name": "python",
   "nbconvert_exporter": "python",
   "pygments_lexer": "ipython3",
   "version": "3.9.7"
  }
 },
 "nbformat": 4,
 "nbformat_minor": 5
}
