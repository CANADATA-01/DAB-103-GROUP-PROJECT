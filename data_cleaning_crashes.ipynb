{
 "cells": [
  {
   "cell_type": "code",
   "execution_count": 1,
   "id": "b96862b3",
   "metadata": {},
   "outputs": [],
   "source": [
    "import numpy as np\n",
    "import pandas as pd \n",
    "import matplotlib.pyplot as plt\n",
    "import matplotlib as mpl\n",
    "%matplotlib inline\n",
    "import seaborn as sns"
   ]
  },
  {
   "cell_type": "code",
   "execution_count": 4,
   "id": "3893841a",
   "metadata": {},
   "outputs": [],
   "source": [
    "# loading the .csv file.\n",
    "crashes=pd.read_excel('1_crashes.csv')"
   ]
  },
  {
   "cell_type": "code",
   "execution_count": 5,
   "id": "c180ba41",
   "metadata": {},
   "outputs": [
    {
     "data": {
      "text/html": [
       "<div>\n",
       "<style scoped>\n",
       "    .dataframe tbody tr th:only-of-type {\n",
       "        vertical-align: middle;\n",
       "    }\n",
       "\n",
       "    .dataframe tbody tr th {\n",
       "        vertical-align: top;\n",
       "    }\n",
       "\n",
       "    .dataframe thead th {\n",
       "        text-align: right;\n",
       "    }\n",
       "</style>\n",
       "<table border=\"1\" class=\"dataframe\">\n",
       "  <thead>\n",
       "    <tr style=\"text-align: right;\">\n",
       "      <th></th>\n",
       "      <th>Crash_Ref_Number</th>\n",
       "      <th>Crash_Severity</th>\n",
       "      <th>Crash_Year</th>\n",
       "      <th>Crash_Month</th>\n",
       "      <th>Crash_Day_Of_Week</th>\n",
       "      <th>Loc_Police_Region</th>\n",
       "      <th>Count_Casualty_Total</th>\n",
       "    </tr>\n",
       "  </thead>\n",
       "  <tbody>\n",
       "    <tr>\n",
       "      <th>0</th>\n",
       "      <td>1</td>\n",
       "      <td>Property damage only</td>\n",
       "      <td>2001</td>\n",
       "      <td>January</td>\n",
       "      <td>Tuesday</td>\n",
       "      <td>Unknown</td>\n",
       "      <td>0</td>\n",
       "    </tr>\n",
       "    <tr>\n",
       "      <th>1</th>\n",
       "      <td>2</td>\n",
       "      <td>Property damage only</td>\n",
       "      <td>2001</td>\n",
       "      <td>January</td>\n",
       "      <td>Wednesday</td>\n",
       "      <td>Brisbane</td>\n",
       "      <td>0</td>\n",
       "    </tr>\n",
       "    <tr>\n",
       "      <th>2</th>\n",
       "      <td>3</td>\n",
       "      <td>Medical treatment</td>\n",
       "      <td>2001</td>\n",
       "      <td>January</td>\n",
       "      <td>Thursday</td>\n",
       "      <td>Brisbane</td>\n",
       "      <td>1</td>\n",
       "    </tr>\n",
       "    <tr>\n",
       "      <th>3</th>\n",
       "      <td>4</td>\n",
       "      <td>Hospitalisation</td>\n",
       "      <td>2001</td>\n",
       "      <td>February</td>\n",
       "      <td>Thursday</td>\n",
       "      <td>Brisbane</td>\n",
       "      <td>1</td>\n",
       "    </tr>\n",
       "    <tr>\n",
       "      <th>4</th>\n",
       "      <td>5</td>\n",
       "      <td>Property damage only</td>\n",
       "      <td>2001</td>\n",
       "      <td>February</td>\n",
       "      <td>Thursday</td>\n",
       "      <td>Brisbane</td>\n",
       "      <td>0</td>\n",
       "    </tr>\n",
       "  </tbody>\n",
       "</table>\n",
       "</div>"
      ],
      "text/plain": [
       "   Crash_Ref_Number        Crash_Severity Crash_Year Crash_Month  \\\n",
       "0                 1  Property damage only       2001     January   \n",
       "1                 2  Property damage only       2001     January   \n",
       "2                 3     Medical treatment       2001     January   \n",
       "3                 4       Hospitalisation       2001    February   \n",
       "4                 5  Property damage only       2001    February   \n",
       "\n",
       "  Crash_Day_Of_Week Loc_Police_Region  Count_Casualty_Total  \n",
       "0           Tuesday           Unknown                     0  \n",
       "1         Wednesday          Brisbane                     0  \n",
       "2          Thursday          Brisbane                     1  \n",
       "3          Thursday          Brisbane                     1  \n",
       "4          Thursday          Brisbane                     0  "
      ]
     },
     "execution_count": 5,
     "metadata": {},
     "output_type": "execute_result"
    }
   ],
   "source": [
    "crashes.head()"
   ]
  },
  {
   "cell_type": "code",
   "execution_count": 6,
   "id": "3213cd45",
   "metadata": {},
   "outputs": [
    {
     "name": "stdout",
     "output_type": "stream",
     "text": [
      "<class 'pandas.core.frame.DataFrame'>\n",
      "RangeIndex: 353651 entries, 0 to 353650\n",
      "Data columns (total 7 columns):\n",
      " #   Column                Non-Null Count   Dtype \n",
      "---  ------                --------------   ----- \n",
      " 0   Crash_Ref_Number      353651 non-null  int64 \n",
      " 1   Crash_Severity        353651 non-null  object\n",
      " 2   Crash_Year            353651 non-null  object\n",
      " 3   Crash_Month           353651 non-null  object\n",
      " 4   Crash_Day_Of_Week     353651 non-null  object\n",
      " 5   Loc_Police_Region     353651 non-null  object\n",
      " 6   Count_Casualty_Total  353651 non-null  int64 \n",
      "dtypes: int64(2), object(5)\n",
      "memory usage: 18.9+ MB\n"
     ]
    }
   ],
   "source": [
    "crashes.info()"
   ]
  },
  {
   "cell_type": "code",
   "execution_count": 7,
   "id": "5c708e0d",
   "metadata": {},
   "outputs": [
    {
     "data": {
      "text/plain": [
       "Crash_Ref_Number        0\n",
       "Crash_Severity          0\n",
       "Crash_Year              0\n",
       "Crash_Month             0\n",
       "Crash_Day_Of_Week       0\n",
       "Loc_Police_Region       0\n",
       "Count_Casualty_Total    0\n",
       "dtype: int64"
      ]
     },
     "execution_count": 7,
     "metadata": {},
     "output_type": "execute_result"
    }
   ],
   "source": [
    "#checking for missing values\n",
    "crashes.isnull().sum()"
   ]
  },
  {
   "cell_type": "code",
   "execution_count": 8,
   "id": "1c3c2477",
   "metadata": {},
   "outputs": [
    {
     "data": {
      "text/html": [
       "<div>\n",
       "<style scoped>\n",
       "    .dataframe tbody tr th:only-of-type {\n",
       "        vertical-align: middle;\n",
       "    }\n",
       "\n",
       "    .dataframe tbody tr th {\n",
       "        vertical-align: top;\n",
       "    }\n",
       "\n",
       "    .dataframe thead th {\n",
       "        text-align: right;\n",
       "    }\n",
       "</style>\n",
       "<table border=\"1\" class=\"dataframe\">\n",
       "  <thead>\n",
       "    <tr style=\"text-align: right;\">\n",
       "      <th></th>\n",
       "      <th>Crash_Ref_Number</th>\n",
       "      <th>Crash_Severity</th>\n",
       "      <th>Crash_Year</th>\n",
       "      <th>Crash_Month</th>\n",
       "      <th>Crash_Day_Of_Week</th>\n",
       "      <th>Crash_Region</th>\n",
       "      <th>Total_Casualties</th>\n",
       "    </tr>\n",
       "  </thead>\n",
       "  <tbody>\n",
       "    <tr>\n",
       "      <th>0</th>\n",
       "      <td>1</td>\n",
       "      <td>Property damage only</td>\n",
       "      <td>2001</td>\n",
       "      <td>January</td>\n",
       "      <td>Tuesday</td>\n",
       "      <td>Unknown</td>\n",
       "      <td>0</td>\n",
       "    </tr>\n",
       "    <tr>\n",
       "      <th>1</th>\n",
       "      <td>2</td>\n",
       "      <td>Property damage only</td>\n",
       "      <td>2001</td>\n",
       "      <td>January</td>\n",
       "      <td>Wednesday</td>\n",
       "      <td>Brisbane</td>\n",
       "      <td>0</td>\n",
       "    </tr>\n",
       "    <tr>\n",
       "      <th>2</th>\n",
       "      <td>3</td>\n",
       "      <td>Medical treatment</td>\n",
       "      <td>2001</td>\n",
       "      <td>January</td>\n",
       "      <td>Thursday</td>\n",
       "      <td>Brisbane</td>\n",
       "      <td>1</td>\n",
       "    </tr>\n",
       "    <tr>\n",
       "      <th>3</th>\n",
       "      <td>4</td>\n",
       "      <td>Hospitalisation</td>\n",
       "      <td>2001</td>\n",
       "      <td>February</td>\n",
       "      <td>Thursday</td>\n",
       "      <td>Brisbane</td>\n",
       "      <td>1</td>\n",
       "    </tr>\n",
       "    <tr>\n",
       "      <th>4</th>\n",
       "      <td>5</td>\n",
       "      <td>Property damage only</td>\n",
       "      <td>2001</td>\n",
       "      <td>February</td>\n",
       "      <td>Thursday</td>\n",
       "      <td>Brisbane</td>\n",
       "      <td>0</td>\n",
       "    </tr>\n",
       "    <tr>\n",
       "      <th>...</th>\n",
       "      <td>...</td>\n",
       "      <td>...</td>\n",
       "      <td>...</td>\n",
       "      <td>...</td>\n",
       "      <td>...</td>\n",
       "      <td>...</td>\n",
       "      <td>...</td>\n",
       "    </tr>\n",
       "    <tr>\n",
       "      <th>353646</th>\n",
       "      <td>353647</td>\n",
       "      <td>Medical treatment</td>\n",
       "      <td>2020</td>\n",
       "      <td>December</td>\n",
       "      <td>Thursday</td>\n",
       "      <td>South Eastern</td>\n",
       "      <td>1</td>\n",
       "    </tr>\n",
       "    <tr>\n",
       "      <th>353647</th>\n",
       "      <td>353648</td>\n",
       "      <td>Hospitalisation</td>\n",
       "      <td>2020</td>\n",
       "      <td>December</td>\n",
       "      <td>Wednesday</td>\n",
       "      <td>South Eastern</td>\n",
       "      <td>1</td>\n",
       "    </tr>\n",
       "    <tr>\n",
       "      <th>353648</th>\n",
       "      <td>353649</td>\n",
       "      <td>Hospitalisation</td>\n",
       "      <td>2020</td>\n",
       "      <td>January</td>\n",
       "      <td>Sunday</td>\n",
       "      <td>Southern</td>\n",
       "      <td>1</td>\n",
       "    </tr>\n",
       "    <tr>\n",
       "      <th>353649</th>\n",
       "      <td>353650</td>\n",
       "      <td>Minor injury</td>\n",
       "      <td>2020</td>\n",
       "      <td>March</td>\n",
       "      <td>Monday</td>\n",
       "      <td>Southern</td>\n",
       "      <td>1</td>\n",
       "    </tr>\n",
       "    <tr>\n",
       "      <th>353650</th>\n",
       "      <td>353651</td>\n",
       "      <td>Hospitalisation</td>\n",
       "      <td>2020</td>\n",
       "      <td>October</td>\n",
       "      <td>Saturday</td>\n",
       "      <td>Southern</td>\n",
       "      <td>1</td>\n",
       "    </tr>\n",
       "  </tbody>\n",
       "</table>\n",
       "<p>353651 rows × 7 columns</p>\n",
       "</div>"
      ],
      "text/plain": [
       "        Crash_Ref_Number        Crash_Severity Crash_Year Crash_Month  \\\n",
       "0                      1  Property damage only       2001     January   \n",
       "1                      2  Property damage only       2001     January   \n",
       "2                      3     Medical treatment       2001     January   \n",
       "3                      4       Hospitalisation       2001    February   \n",
       "4                      5  Property damage only       2001    February   \n",
       "...                  ...                   ...        ...         ...   \n",
       "353646            353647     Medical treatment       2020    December   \n",
       "353647            353648       Hospitalisation       2020    December   \n",
       "353648            353649       Hospitalisation       2020     January   \n",
       "353649            353650          Minor injury       2020       March   \n",
       "353650            353651       Hospitalisation       2020     October   \n",
       "\n",
       "       Crash_Day_Of_Week   Crash_Region  Total_Casualties  \n",
       "0                Tuesday        Unknown                 0  \n",
       "1              Wednesday       Brisbane                 0  \n",
       "2               Thursday       Brisbane                 1  \n",
       "3               Thursday       Brisbane                 1  \n",
       "4               Thursday       Brisbane                 0  \n",
       "...                  ...            ...               ...  \n",
       "353646          Thursday  South Eastern                 1  \n",
       "353647         Wednesday  South Eastern                 1  \n",
       "353648            Sunday       Southern                 1  \n",
       "353649            Monday       Southern                 1  \n",
       "353650          Saturday       Southern                 1  \n",
       "\n",
       "[353651 rows x 7 columns]"
      ]
     },
     "execution_count": 8,
     "metadata": {},
     "output_type": "execute_result"
    }
   ],
   "source": [
    "crashes.rename(columns={'Loc_Police_Region': 'Crash_Region', 'Count_Casualty_Total':'Total_Casualties'})"
   ]
  },
  {
   "cell_type": "code",
   "execution_count": 9,
   "id": "c511b517",
   "metadata": {},
   "outputs": [],
   "source": []
  },
  {
   "cell_type": "code",
   "execution_count": 10,
   "id": "882510bf",
   "metadata": {},
   "outputs": [
    {
     "name": "stdout",
     "output_type": "stream",
     "text": [
      "        Crash_Ref_Number        Crash_Severity Crash_Year Crash_Month  \\\n",
      "0                      1  Property damage only       2001     January   \n",
      "1                      2  Property damage only       2001     January   \n",
      "2                      3     Medical treatment       2001     January   \n",
      "3                      4       Hospitalisation       2001    February   \n",
      "4                      5  Property damage only       2001    February   \n",
      "...                  ...                   ...        ...         ...   \n",
      "353646            353647     Medical treatment       2020    December   \n",
      "353647            353648       Hospitalisation       2020    December   \n",
      "353648            353649       Hospitalisation       2020     January   \n",
      "353649            353650          Minor injury       2020       March   \n",
      "353650            353651       Hospitalisation       2020     October   \n",
      "\n",
      "       Crash_Day_Of_Week Loc_Police_Region  Count_Casualty_Total  \n",
      "0                Tuesday           Unknown                     0  \n",
      "1              Wednesday          Brisbane                     0  \n",
      "2               Thursday          Brisbane                     1  \n",
      "3               Thursday          Brisbane                     1  \n",
      "4               Thursday          Brisbane                     0  \n",
      "...                  ...               ...                   ...  \n",
      "353646          Thursday     South Eastern                     1  \n",
      "353647         Wednesday     South Eastern                     1  \n",
      "353648            Sunday          Southern                     1  \n",
      "353649            Monday          Southern                     1  \n",
      "353650          Saturday          Southern                     1  \n",
      "\n",
      "[353651 rows x 7 columns]\n"
     ]
    }
   ],
   "source": [
    "print(crashes)"
   ]
  },
  {
   "cell_type": "code",
   "execution_count": 14,
   "id": "849b8f22",
   "metadata": {},
   "outputs": [],
   "source": [
    "crashes_columns_renamed=crashes.rename(columns={'Loc_Police_Region': 'Crash_Region', 'Count_Casualty_Total':'Total_Casualties'})"
   ]
  },
  {
   "cell_type": "code",
   "execution_count": 15,
   "id": "60c006f7",
   "metadata": {},
   "outputs": [
    {
     "name": "stdout",
     "output_type": "stream",
     "text": [
      "        Crash_Ref_Number        Crash_Severity Crash_Year Crash_Month  \\\n",
      "0                      1  Property damage only       2001     January   \n",
      "1                      2  Property damage only       2001     January   \n",
      "2                      3     Medical treatment       2001     January   \n",
      "3                      4       Hospitalisation       2001    February   \n",
      "4                      5  Property damage only       2001    February   \n",
      "...                  ...                   ...        ...         ...   \n",
      "353646            353647     Medical treatment       2020    December   \n",
      "353647            353648       Hospitalisation       2020    December   \n",
      "353648            353649       Hospitalisation       2020     January   \n",
      "353649            353650          Minor injury       2020       March   \n",
      "353650            353651       Hospitalisation       2020     October   \n",
      "\n",
      "       Crash_Day_Of_Week   Crash_Region  Total_Casualties  \n",
      "0                Tuesday        Unknown                 0  \n",
      "1              Wednesday       Brisbane                 0  \n",
      "2               Thursday       Brisbane                 1  \n",
      "3               Thursday       Brisbane                 1  \n",
      "4               Thursday       Brisbane                 0  \n",
      "...                  ...            ...               ...  \n",
      "353646          Thursday  South Eastern                 1  \n",
      "353647         Wednesday  South Eastern                 1  \n",
      "353648            Sunday       Southern                 1  \n",
      "353649            Monday       Southern                 1  \n",
      "353650          Saturday       Southern                 1  \n",
      "\n",
      "[353651 rows x 7 columns]\n"
     ]
    }
   ],
   "source": [
    "print(crashes_columns_renamed)"
   ]
  },
  {
   "cell_type": "code",
   "execution_count": 13,
   "id": "a0b3197c",
   "metadata": {},
   "outputs": [
    {
     "name": "stdout",
     "output_type": "stream",
     "text": [
      "        Crash_Ref_Number        Crash_Severity Crash_Year Crash_Month  \\\n",
      "0                      1  Property damage only       2001     January   \n",
      "1                      2  Property damage only       2001     January   \n",
      "2                      3     Medical treatment       2001     January   \n",
      "3                      4       Hospitalisation       2001    February   \n",
      "4                      5  Property damage only       2001    February   \n",
      "...                  ...                   ...        ...         ...   \n",
      "353646            353647     Medical treatment       2020    December   \n",
      "353647            353648       Hospitalisation       2020    December   \n",
      "353648            353649       Hospitalisation       2020     January   \n",
      "353649            353650          Minor injury       2020       March   \n",
      "353650            353651       Hospitalisation       2020     October   \n",
      "\n",
      "       Crash_Day_Of_Week Loc_Police_Region  Count_Casualty_Total  \n",
      "0                Tuesday           Unknown                     0  \n",
      "1              Wednesday          Brisbane                     0  \n",
      "2               Thursday          Brisbane                     1  \n",
      "3               Thursday          Brisbane                     1  \n",
      "4               Thursday          Brisbane                     0  \n",
      "...                  ...               ...                   ...  \n",
      "353646          Thursday     South Eastern                     1  \n",
      "353647         Wednesday     South Eastern                     1  \n",
      "353648            Sunday          Southern                     1  \n",
      "353649            Monday          Southern                     1  \n",
      "353650          Saturday          Southern                     1  \n",
      "\n",
      "[353651 rows x 7 columns]\n"
     ]
    }
   ],
   "source": [
    "print(crashes)"
   ]
  },
  {
   "cell_type": "code",
   "execution_count": 16,
   "id": "7cbe7fc4",
   "metadata": {},
   "outputs": [],
   "source": [
    "crashes_columns_renamed.to_csv(\"crashes.csv\")"
   ]
  },
  {
   "cell_type": "code",
   "execution_count": 1,
   "id": "dcb759ab",
   "metadata": {},
   "outputs": [
    {
     "ename": "NameError",
     "evalue": "name 'merge4' is not defined",
     "output_type": "error",
     "traceback": [
      "\u001b[1;31m---------------------------------------------------------------------------\u001b[0m",
      "\u001b[1;31mNameError\u001b[0m                                 Traceback (most recent call last)",
      "\u001b[1;32m~\\AppData\\Local\\Temp/ipykernel_30828/3304290298.py\u001b[0m in \u001b[0;36m<module>\u001b[1;34m\u001b[0m\n\u001b[1;32m----> 1\u001b[1;33m \u001b[0mmerge4\u001b[0m\u001b[1;33m.\u001b[0m\u001b[0mto_csv\u001b[0m\u001b[1;33m(\u001b[0m\u001b[1;34m\"crashes_merged_file.csv\"\u001b[0m\u001b[1;33m)\u001b[0m\u001b[1;33m\u001b[0m\u001b[1;33m\u001b[0m\u001b[0m\n\u001b[0m",
      "\u001b[1;31mNameError\u001b[0m: name 'merge4' is not defined"
     ]
    }
   ],
   "source": [
    "merge4.to_csv(\"crashes_merged_file.csv\")"
   ]
  },
  {
   "cell_type": "code",
   "execution_count": null,
   "id": "87c1ae20",
   "metadata": {},
   "outputs": [],
   "source": []
  }
 ],
 "metadata": {
  "kernelspec": {
   "display_name": "Python 3 (ipykernel)",
   "language": "python",
   "name": "python3"
  },
  "language_info": {
   "codemirror_mode": {
    "name": "ipython",
    "version": 3
   },
   "file_extension": ".py",
   "mimetype": "text/x-python",
   "name": "python",
   "nbconvert_exporter": "python",
   "pygments_lexer": "ipython3",
   "version": "3.9.7"
  }
 },
 "nbformat": 4,
 "nbformat_minor": 5
}
