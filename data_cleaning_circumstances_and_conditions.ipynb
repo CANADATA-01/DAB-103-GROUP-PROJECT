{
 "cells": [
  {
   "cell_type": "code",
   "execution_count": 1,
   "id": "5e39ce10",
   "metadata": {},
   "outputs": [],
   "source": [
    "import numpy as np\n",
    "import pandas as pd \n",
    "import matplotlib.pyplot as plt\n",
    "import matplotlib as mpl\n",
    "%matplotlib inline\n",
    "import seaborn as sns"
   ]
  },
  {
   "cell_type": "code",
   "execution_count": 70,
   "id": "5a5e0fa0",
   "metadata": {},
   "outputs": [],
   "source": [
    "# loading the .csv file.\n",
    "circumstances_and_conditions=pd.read_excel('5_circumstances_and_conditions.csv')"
   ]
  },
  {
   "cell_type": "code",
   "execution_count": 72,
   "id": "6326957a",
   "metadata": {},
   "outputs": [
    {
     "data": {
      "text/html": [
       "<div>\n",
       "<style scoped>\n",
       "    .dataframe tbody tr th:only-of-type {\n",
       "        vertical-align: middle;\n",
       "    }\n",
       "\n",
       "    .dataframe tbody tr th {\n",
       "        vertical-align: top;\n",
       "    }\n",
       "\n",
       "    .dataframe thead th {\n",
       "        text-align: right;\n",
       "    }\n",
       "</style>\n",
       "<table border=\"1\" class=\"dataframe\">\n",
       "  <thead>\n",
       "    <tr style=\"text-align: right;\">\n",
       "      <th></th>\n",
       "      <th>Crash_Ref_Number</th>\n",
       "      <th>Crash_Nature</th>\n",
       "      <th>Crash_Type</th>\n",
       "      <th>Crash_Traffic_Control</th>\n",
       "      <th>Count_Unit_Car</th>\n",
       "      <th>Count_Unit_Motorcycle_Moped</th>\n",
       "      <th>Count_Unit_Truck</th>\n",
       "      <th>Count_Unit_Bus</th>\n",
       "      <th>Count_Unit_Bicycle</th>\n",
       "      <th>Count_Unit_Pedestrian</th>\n",
       "      <th>Count_Unit_Other</th>\n",
       "    </tr>\n",
       "  </thead>\n",
       "  <tbody>\n",
       "    <tr>\n",
       "      <th>0</th>\n",
       "      <td>1</td>\n",
       "      <td>Overturned</td>\n",
       "      <td>Single Vehicle</td>\n",
       "      <td>No traffic control</td>\n",
       "      <td>1</td>\n",
       "      <td>0</td>\n",
       "      <td>0</td>\n",
       "      <td>0</td>\n",
       "      <td>0</td>\n",
       "      <td>0</td>\n",
       "      <td>0</td>\n",
       "    </tr>\n",
       "    <tr>\n",
       "      <th>1</th>\n",
       "      <td>2</td>\n",
       "      <td>Hit object</td>\n",
       "      <td>Single Vehicle</td>\n",
       "      <td>Operating traffic lights</td>\n",
       "      <td>1</td>\n",
       "      <td>0</td>\n",
       "      <td>0</td>\n",
       "      <td>0</td>\n",
       "      <td>0</td>\n",
       "      <td>0</td>\n",
       "      <td>0</td>\n",
       "    </tr>\n",
       "    <tr>\n",
       "      <th>2</th>\n",
       "      <td>3</td>\n",
       "      <td>Hit pedestrian</td>\n",
       "      <td>Hit pedestrian</td>\n",
       "      <td>No traffic control</td>\n",
       "      <td>0</td>\n",
       "      <td>0</td>\n",
       "      <td>1</td>\n",
       "      <td>0</td>\n",
       "      <td>0</td>\n",
       "      <td>1</td>\n",
       "      <td>0</td>\n",
       "    </tr>\n",
       "    <tr>\n",
       "      <th>3</th>\n",
       "      <td>4</td>\n",
       "      <td>Rear-end</td>\n",
       "      <td>Multi-Vehicle</td>\n",
       "      <td>No traffic control</td>\n",
       "      <td>2</td>\n",
       "      <td>0</td>\n",
       "      <td>0</td>\n",
       "      <td>0</td>\n",
       "      <td>0</td>\n",
       "      <td>0</td>\n",
       "      <td>0</td>\n",
       "    </tr>\n",
       "    <tr>\n",
       "      <th>4</th>\n",
       "      <td>5</td>\n",
       "      <td>Hit object</td>\n",
       "      <td>Single Vehicle</td>\n",
       "      <td>Operating traffic lights</td>\n",
       "      <td>0</td>\n",
       "      <td>0</td>\n",
       "      <td>1</td>\n",
       "      <td>0</td>\n",
       "      <td>0</td>\n",
       "      <td>0</td>\n",
       "      <td>0</td>\n",
       "    </tr>\n",
       "  </tbody>\n",
       "</table>\n",
       "</div>"
      ],
      "text/plain": [
       "   Crash_Ref_Number    Crash_Nature      Crash_Type     Crash_Traffic_Control  \\\n",
       "0                 1      Overturned  Single Vehicle        No traffic control   \n",
       "1                 2      Hit object  Single Vehicle  Operating traffic lights   \n",
       "2                 3  Hit pedestrian  Hit pedestrian        No traffic control   \n",
       "3                 4        Rear-end   Multi-Vehicle        No traffic control   \n",
       "4                 5      Hit object  Single Vehicle  Operating traffic lights   \n",
       "\n",
       "   Count_Unit_Car  Count_Unit_Motorcycle_Moped  Count_Unit_Truck  \\\n",
       "0               1                            0                 0   \n",
       "1               1                            0                 0   \n",
       "2               0                            0                 1   \n",
       "3               2                            0                 0   \n",
       "4               0                            0                 1   \n",
       "\n",
       "   Count_Unit_Bus  Count_Unit_Bicycle  Count_Unit_Pedestrian  Count_Unit_Other  \n",
       "0               0                   0                      0                 0  \n",
       "1               0                   0                      0                 0  \n",
       "2               0                   0                      1                 0  \n",
       "3               0                   0                      0                 0  \n",
       "4               0                   0                      0                 0  "
      ]
     },
     "execution_count": 72,
     "metadata": {},
     "output_type": "execute_result"
    }
   ],
   "source": [
    "circumstances_and_conditions.head()"
   ]
  },
  {
   "cell_type": "code",
   "execution_count": 73,
   "id": "a8f4332a",
   "metadata": {},
   "outputs": [
    {
     "name": "stdout",
     "output_type": "stream",
     "text": [
      "<class 'pandas.core.frame.DataFrame'>\n",
      "RangeIndex: 353651 entries, 0 to 353650\n",
      "Data columns (total 11 columns):\n",
      " #   Column                       Non-Null Count   Dtype \n",
      "---  ------                       --------------   ----- \n",
      " 0   Crash_Ref_Number             353651 non-null  int64 \n",
      " 1   Crash_Nature                 353651 non-null  object\n",
      " 2   Crash_Type                   353651 non-null  object\n",
      " 3   Crash_Traffic_Control        353651 non-null  object\n",
      " 4   Count_Unit_Car               353651 non-null  int64 \n",
      " 5   Count_Unit_Motorcycle_Moped  353651 non-null  int64 \n",
      " 6   Count_Unit_Truck             353651 non-null  int64 \n",
      " 7   Count_Unit_Bus               353651 non-null  int64 \n",
      " 8   Count_Unit_Bicycle           353651 non-null  int64 \n",
      " 9   Count_Unit_Pedestrian        353651 non-null  int64 \n",
      " 10  Count_Unit_Other             353651 non-null  int64 \n",
      "dtypes: int64(8), object(3)\n",
      "memory usage: 29.7+ MB\n"
     ]
    }
   ],
   "source": [
    "circumstances_and_conditions.info()"
   ]
  },
  {
   "cell_type": "code",
   "execution_count": 74,
   "id": "c2eb2762",
   "metadata": {},
   "outputs": [
    {
     "data": {
      "text/plain": [
       "Crash_Ref_Number               0\n",
       "Crash_Nature                   0\n",
       "Crash_Type                     0\n",
       "Crash_Traffic_Control          0\n",
       "Count_Unit_Car                 0\n",
       "Count_Unit_Motorcycle_Moped    0\n",
       "Count_Unit_Truck               0\n",
       "Count_Unit_Bus                 0\n",
       "Count_Unit_Bicycle             0\n",
       "Count_Unit_Pedestrian          0\n",
       "Count_Unit_Other               0\n",
       "dtype: int64"
      ]
     },
     "execution_count": 74,
     "metadata": {},
     "output_type": "execute_result"
    }
   ],
   "source": [
    "#checking for missing values\n",
    "circumstances_and_conditions.isnull().sum()"
   ]
  },
  {
   "cell_type": "code",
   "execution_count": 75,
   "id": "4c33ba03",
   "metadata": {},
   "outputs": [
    {
     "name": "stdout",
     "output_type": "stream",
     "text": [
      "        Crash_Ref_Number    Crash_Nature      Crash_Type  \\\n",
      "0                      1      Overturned  Single Vehicle   \n",
      "1                      2      Hit object  Single Vehicle   \n",
      "2                      3  Hit pedestrian  Hit pedestrian   \n",
      "3                      4        Rear-end   Multi-Vehicle   \n",
      "4                      5      Hit object  Single Vehicle   \n",
      "...                  ...             ...             ...   \n",
      "353646            353647           Angle   Multi-Vehicle   \n",
      "353647            353648      Hit object  Single Vehicle   \n",
      "353648            353649        Rear-end   Multi-Vehicle   \n",
      "353649            353650           Angle   Multi-Vehicle   \n",
      "353650            353651           Angle   Multi-Vehicle   \n",
      "\n",
      "           Crash_Traffic_Control  Count_Unit_Car  Count_Unit_Motorcycle_Moped  \\\n",
      "0             No traffic control               1                            0   \n",
      "1       Operating traffic lights               1                            0   \n",
      "2             No traffic control               0                            0   \n",
      "3             No traffic control               2                            0   \n",
      "4       Operating traffic lights               0                            0   \n",
      "...                          ...             ...                          ...   \n",
      "353646             Give way sign               2                            0   \n",
      "353647        No traffic control               1                            0   \n",
      "353648  Operating traffic lights               1                            0   \n",
      "353649  Operating traffic lights               2                            0   \n",
      "353650             Give way sign               1                            1   \n",
      "\n",
      "        Count_Unit_Truck  Count_Unit_Bus  Count_Unit_Bicycle  \\\n",
      "0                      0               0                   0   \n",
      "1                      0               0                   0   \n",
      "2                      1               0                   0   \n",
      "3                      0               0                   0   \n",
      "4                      1               0                   0   \n",
      "...                  ...             ...                 ...   \n",
      "353646                 0               0                   0   \n",
      "353647                 0               0                   0   \n",
      "353648                 1               0                   0   \n",
      "353649                 0               0                   0   \n",
      "353650                 0               0                   0   \n",
      "\n",
      "        Count_Unit_Pedestrian  Count_Unit_Other  \n",
      "0                           0                 0  \n",
      "1                           0                 0  \n",
      "2                           1                 0  \n",
      "3                           0                 0  \n",
      "4                           0                 0  \n",
      "...                       ...               ...  \n",
      "353646                      0                 0  \n",
      "353647                      0                 0  \n",
      "353648                      0                 0  \n",
      "353649                      0                 0  \n",
      "353650                      0                 0  \n",
      "\n",
      "[353651 rows x 11 columns]\n"
     ]
    }
   ],
   "source": [
    "print(circumstances_and_conditions)"
   ]
  },
  {
   "cell_type": "code",
   "execution_count": 76,
   "id": "71adb470",
   "metadata": {},
   "outputs": [
    {
     "name": "stdout",
     "output_type": "stream",
     "text": [
      "<class 'pandas.core.frame.DataFrame'>\n",
      "RangeIndex: 353651 entries, 0 to 353650\n",
      "Data columns (total 11 columns):\n",
      " #   Column                       Non-Null Count   Dtype \n",
      "---  ------                       --------------   ----- \n",
      " 0   Crash_Ref_Number             353651 non-null  int64 \n",
      " 1   Crash_Nature                 353651 non-null  object\n",
      " 2   Crash_Type                   353651 non-null  object\n",
      " 3   Crash_Traffic_Control        353651 non-null  object\n",
      " 4   Count_Unit_Car               353651 non-null  int64 \n",
      " 5   Count_Unit_Motorcycle_Moped  353651 non-null  int64 \n",
      " 6   Count_Unit_Truck             353651 non-null  int64 \n",
      " 7   Count_Unit_Bus               353651 non-null  int64 \n",
      " 8   Count_Unit_Bicycle           353651 non-null  int64 \n",
      " 9   Count_Unit_Pedestrian        353651 non-null  int64 \n",
      " 10  Count_Unit_Other             353651 non-null  int64 \n",
      "dtypes: int64(8), object(3)\n",
      "memory usage: 29.7+ MB\n"
     ]
    }
   ],
   "source": [
    "circumstances_and_conditions.info()"
   ]
  },
  {
   "cell_type": "code",
   "execution_count": 77,
   "id": "a4c01759",
   "metadata": {},
   "outputs": [],
   "source": [
    "factors_and_features_renamed=factors_and_features.rename(columns={'Loc_Local_Government_Area': 'City', 'Loc_Main_Roads_Region':'Main_Roads_Region', 'Crash_Roadway_Feature':'Roadway_Feature', 'Crash_Speed_Limit':'Speed_Limit', 'Crash_Road_Surface_Condition':'Road_Surface_Condition', 'Crash_Atmospheric_Condition':'Atmospheric_Condition', 'Crash_Lighting_Condition':'Crash_Lighting_Condition   ', 'Crash_Road_Surface_Condition':'Road_Surface_Condition', 'Crash_Road_Surface_Condition':'Road_Surface_Condition'})"
   ]
  },
  {
   "cell_type": "code",
   "execution_count": 78,
   "id": "1593602a",
   "metadata": {},
   "outputs": [
    {
     "name": "stdout",
     "output_type": "stream",
     "text": [
      "        Condition_Ref_Number    Crash_Nature      Crash_Type  \\\n",
      "0                          1      Overturned  Single Vehicle   \n",
      "1                          2      Hit object  Single Vehicle   \n",
      "2                          3  Hit pedestrian  Hit pedestrian   \n",
      "3                          4        Rear-end   Multi-Vehicle   \n",
      "4                          5      Hit object  Single Vehicle   \n",
      "...                      ...             ...             ...   \n",
      "353646                353647           Angle   Multi-Vehicle   \n",
      "353647                353648      Hit object  Single Vehicle   \n",
      "353648                353649        Rear-end   Multi-Vehicle   \n",
      "353649                353650           Angle   Multi-Vehicle   \n",
      "353650                353651           Angle   Multi-Vehicle   \n",
      "\n",
      "           Crash_Traffic_Control  Count_Unit_Car  Count_Unit_Motorcycle_Moped  \\\n",
      "0             No traffic control               1                            0   \n",
      "1       Operating traffic lights               1                            0   \n",
      "2             No traffic control               0                            0   \n",
      "3             No traffic control               2                            0   \n",
      "4       Operating traffic lights               0                            0   \n",
      "...                          ...             ...                          ...   \n",
      "353646             Give way sign               2                            0   \n",
      "353647        No traffic control               1                            0   \n",
      "353648  Operating traffic lights               1                            0   \n",
      "353649  Operating traffic lights               2                            0   \n",
      "353650             Give way sign               1                            1   \n",
      "\n",
      "        Count_Unit_Truck  Count_Unit_Bus  Count_Unit_Bicycle  \\\n",
      "0                      0               0                   0   \n",
      "1                      0               0                   0   \n",
      "2                      1               0                   0   \n",
      "3                      0               0                   0   \n",
      "4                      1               0                   0   \n",
      "...                  ...             ...                 ...   \n",
      "353646                 0               0                   0   \n",
      "353647                 0               0                   0   \n",
      "353648                 1               0                   0   \n",
      "353649                 0               0                   0   \n",
      "353650                 0               0                   0   \n",
      "\n",
      "        Count_Unit_Pedestrian  Count_Unit_Other  \n",
      "0                           0                 0  \n",
      "1                           0                 0  \n",
      "2                           1                 0  \n",
      "3                           0                 0  \n",
      "4                           0                 0  \n",
      "...                       ...               ...  \n",
      "353646                      0                 0  \n",
      "353647                      0                 0  \n",
      "353648                      0                 0  \n",
      "353649                      0                 0  \n",
      "353650                      0                 0  \n",
      "\n",
      "[353651 rows x 11 columns]\n"
     ]
    }
   ],
   "source": [
    "print(circumstances_and_conditions_renamed)"
   ]
  },
  {
   "cell_type": "code",
   "execution_count": 79,
   "id": "aa9d1367",
   "metadata": {},
   "outputs": [],
   "source": [
    "circumstances_and_conditions_renamed.to_csv(\"circumstances_and_conditions.csv\")"
   ]
  },
  {
   "cell_type": "code",
   "execution_count": null,
   "id": "e2f8c477",
   "metadata": {},
   "outputs": [],
   "source": []
  }
 ],
 "metadata": {
  "kernelspec": {
   "display_name": "Python 3 (ipykernel)",
   "language": "python",
   "name": "python3"
  },
  "language_info": {
   "codemirror_mode": {
    "name": "ipython",
    "version": 3
   },
   "file_extension": ".py",
   "mimetype": "text/x-python",
   "name": "python",
   "nbconvert_exporter": "python",
   "pygments_lexer": "ipython3",
   "version": "3.9.7"
  }
 },
 "nbformat": 4,
 "nbformat_minor": 5
}
