{
 "cells": [
  {
   "cell_type": "code",
   "execution_count": 111,
   "id": "5e39ce10",
   "metadata": {},
   "outputs": [],
   "source": [
    "import numpy as np\n",
    "import pandas as pd \n",
    "import matplotlib.pyplot as plt\n",
    "import matplotlib as mpl\n",
    "%matplotlib inline\n",
    "import seaborn as sns"
   ]
  },
  {
   "cell_type": "code",
   "execution_count": 112,
   "id": "5a5e0fa0",
   "metadata": {},
   "outputs": [],
   "source": [
    "# loading the .csv file.\n",
    "factors_and_features=pd.read_excel('4_factors_and_features.csv')"
   ]
  },
  {
   "cell_type": "code",
   "execution_count": 84,
   "id": "6326957a",
   "metadata": {},
   "outputs": [
    {
     "data": {
      "text/html": [
       "<div>\n",
       "<style scoped>\n",
       "    .dataframe tbody tr th:only-of-type {\n",
       "        vertical-align: middle;\n",
       "    }\n",
       "\n",
       "    .dataframe tbody tr th {\n",
       "        vertical-align: top;\n",
       "    }\n",
       "\n",
       "    .dataframe thead th {\n",
       "        text-align: right;\n",
       "    }\n",
       "</style>\n",
       "<table border=\"1\" class=\"dataframe\">\n",
       "  <thead>\n",
       "    <tr style=\"text-align: right;\">\n",
       "      <th></th>\n",
       "      <th>Crash_Ref_Number</th>\n",
       "      <th>Crash_Hour</th>\n",
       "      <th>Crash_Street</th>\n",
       "      <th>Loc_Local_Government_Area</th>\n",
       "      <th>Loc_Main_Roads_Region</th>\n",
       "      <th>Crash_Roadway_Feature</th>\n",
       "      <th>Crash_Speed_Limit</th>\n",
       "      <th>Crash_Road_Surface_Condition</th>\n",
       "      <th>Crash_Atmospheric_Condition</th>\n",
       "      <th>Crash_Lighting_Condition</th>\n",
       "      <th>Crash_Road_Horiz_Align</th>\n",
       "      <th>Crash_Road_Vert_Align</th>\n",
       "    </tr>\n",
       "  </thead>\n",
       "  <tbody>\n",
       "    <tr>\n",
       "      <th>0</th>\n",
       "      <td>1</td>\n",
       "      <td>16</td>\n",
       "      <td>Anderson St</td>\n",
       "      <td>Unknown</td>\n",
       "      <td>Unknown</td>\n",
       "      <td>No Roadway Feature</td>\n",
       "      <td>60 km/h</td>\n",
       "      <td>Unsealed - Dry</td>\n",
       "      <td>Clear</td>\n",
       "      <td>Daylight</td>\n",
       "      <td>Straight</td>\n",
       "      <td>Level</td>\n",
       "    </tr>\n",
       "    <tr>\n",
       "      <th>1</th>\n",
       "      <td>2</td>\n",
       "      <td>17</td>\n",
       "      <td>Beenleigh Rd</td>\n",
       "      <td>Brisbane City</td>\n",
       "      <td>Metropolitan</td>\n",
       "      <td>Intersection - Cross</td>\n",
       "      <td>60 km/h</td>\n",
       "      <td>Sealed - Dry</td>\n",
       "      <td>Clear</td>\n",
       "      <td>Daylight</td>\n",
       "      <td>Straight</td>\n",
       "      <td>Level</td>\n",
       "    </tr>\n",
       "    <tr>\n",
       "      <th>2</th>\n",
       "      <td>3</td>\n",
       "      <td>9</td>\n",
       "      <td>Beatty Rd</td>\n",
       "      <td>Brisbane City</td>\n",
       "      <td>Metropolitan</td>\n",
       "      <td>Intersection - T-Junction</td>\n",
       "      <td>0 - 50 km/h</td>\n",
       "      <td>Sealed - Dry</td>\n",
       "      <td>Clear</td>\n",
       "      <td>Daylight</td>\n",
       "      <td>Straight</td>\n",
       "      <td>Level</td>\n",
       "    </tr>\n",
       "    <tr>\n",
       "      <th>3</th>\n",
       "      <td>4</td>\n",
       "      <td>7</td>\n",
       "      <td>Hellawell Rd</td>\n",
       "      <td>Brisbane City</td>\n",
       "      <td>Metropolitan</td>\n",
       "      <td>Intersection - T-Junction</td>\n",
       "      <td>60 km/h</td>\n",
       "      <td>Sealed - Wet</td>\n",
       "      <td>Raining</td>\n",
       "      <td>Daylight</td>\n",
       "      <td>Curved - view open</td>\n",
       "      <td>Dip</td>\n",
       "    </tr>\n",
       "    <tr>\n",
       "      <th>4</th>\n",
       "      <td>5</td>\n",
       "      <td>11</td>\n",
       "      <td>Boundary Rd</td>\n",
       "      <td>Brisbane City</td>\n",
       "      <td>Metropolitan</td>\n",
       "      <td>Intersection - T-Junction</td>\n",
       "      <td>60 km/h</td>\n",
       "      <td>Sealed - Dry</td>\n",
       "      <td>Clear</td>\n",
       "      <td>Daylight</td>\n",
       "      <td>Straight</td>\n",
       "      <td>Level</td>\n",
       "    </tr>\n",
       "  </tbody>\n",
       "</table>\n",
       "</div>"
      ],
      "text/plain": [
       "   Crash_Ref_Number Crash_Hour  Crash_Street Loc_Local_Government_Area  \\\n",
       "0                 1         16   Anderson St                   Unknown   \n",
       "1                 2         17  Beenleigh Rd             Brisbane City   \n",
       "2                 3          9     Beatty Rd             Brisbane City   \n",
       "3                 4          7  Hellawell Rd             Brisbane City   \n",
       "4                 5         11   Boundary Rd             Brisbane City   \n",
       "\n",
       "  Loc_Main_Roads_Region      Crash_Roadway_Feature Crash_Speed_Limit  \\\n",
       "0               Unknown         No Roadway Feature           60 km/h   \n",
       "1          Metropolitan       Intersection - Cross           60 km/h   \n",
       "2          Metropolitan  Intersection - T-Junction       0 - 50 km/h   \n",
       "3          Metropolitan  Intersection - T-Junction           60 km/h   \n",
       "4          Metropolitan  Intersection - T-Junction           60 km/h   \n",
       "\n",
       "  Crash_Road_Surface_Condition Crash_Atmospheric_Condition  \\\n",
       "0               Unsealed - Dry                       Clear   \n",
       "1                 Sealed - Dry                       Clear   \n",
       "2                 Sealed - Dry                       Clear   \n",
       "3                 Sealed - Wet                     Raining   \n",
       "4                 Sealed - Dry                       Clear   \n",
       "\n",
       "  Crash_Lighting_Condition Crash_Road_Horiz_Align Crash_Road_Vert_Align  \n",
       "0                 Daylight               Straight                 Level  \n",
       "1                 Daylight               Straight                 Level  \n",
       "2                 Daylight               Straight                 Level  \n",
       "3                 Daylight     Curved - view open                   Dip  \n",
       "4                 Daylight               Straight                 Level  "
      ]
     },
     "execution_count": 84,
     "metadata": {},
     "output_type": "execute_result"
    }
   ],
   "source": [
    "factors_and_features.head()"
   ]
  },
  {
   "cell_type": "code",
   "execution_count": 85,
   "id": "a8f4332a",
   "metadata": {},
   "outputs": [
    {
     "name": "stdout",
     "output_type": "stream",
     "text": [
      "<class 'pandas.core.frame.DataFrame'>\n",
      "RangeIndex: 353651 entries, 0 to 353650\n",
      "Data columns (total 12 columns):\n",
      " #   Column                        Non-Null Count   Dtype \n",
      "---  ------                        --------------   ----- \n",
      " 0   Crash_Ref_Number              353651 non-null  int64 \n",
      " 1   Crash_Hour                    353651 non-null  object\n",
      " 2   Crash_Street                  353637 non-null  object\n",
      " 3   Loc_Local_Government_Area     353651 non-null  object\n",
      " 4   Loc_Main_Roads_Region         353651 non-null  object\n",
      " 5   Crash_Roadway_Feature         353651 non-null  object\n",
      " 6   Crash_Speed_Limit             353648 non-null  object\n",
      " 7   Crash_Road_Surface_Condition  353651 non-null  object\n",
      " 8   Crash_Atmospheric_Condition   353651 non-null  object\n",
      " 9   Crash_Lighting_Condition      353651 non-null  object\n",
      " 10  Crash_Road_Horiz_Align        353651 non-null  object\n",
      " 11  Crash_Road_Vert_Align         353650 non-null  object\n",
      "dtypes: int64(1), object(11)\n",
      "memory usage: 32.4+ MB\n"
     ]
    }
   ],
   "source": [
    "factors_and_features.info()"
   ]
  },
  {
   "cell_type": "code",
   "execution_count": 86,
   "id": "c2eb2762",
   "metadata": {},
   "outputs": [
    {
     "data": {
      "text/plain": [
       "Crash_Ref_Number                 0\n",
       "Crash_Hour                       0\n",
       "Crash_Street                    14\n",
       "Loc_Local_Government_Area        0\n",
       "Loc_Main_Roads_Region            0\n",
       "Crash_Roadway_Feature            0\n",
       "Crash_Speed_Limit                3\n",
       "Crash_Road_Surface_Condition     0\n",
       "Crash_Atmospheric_Condition      0\n",
       "Crash_Lighting_Condition         0\n",
       "Crash_Road_Horiz_Align           0\n",
       "Crash_Road_Vert_Align            1\n",
       "dtype: int64"
      ]
     },
     "execution_count": 86,
     "metadata": {},
     "output_type": "execute_result"
    }
   ],
   "source": [
    "#checking for missing values\n",
    "factors_and_features.isnull().sum()"
   ]
  },
  {
   "cell_type": "code",
   "execution_count": 88,
   "id": "4c33ba03",
   "metadata": {},
   "outputs": [],
   "source": [
    "factors_and_features.Crash_Street.replace(np.NaN, 'Unknown', inplace=True)"
   ]
  },
  {
   "cell_type": "code",
   "execution_count": 89,
   "id": "7e92938c",
   "metadata": {},
   "outputs": [],
   "source": [
    "factors_and_features.Crash_Speed_Limit.replace(np.NaN, 'Unknown', inplace=True)"
   ]
  },
  {
   "cell_type": "code",
   "execution_count": 90,
   "id": "fda1a7d1",
   "metadata": {},
   "outputs": [],
   "source": [
    "factors_and_features.Crash_Road_Vert_Align.replace(np.NaN, 'Unknown', inplace=True)"
   ]
  },
  {
   "cell_type": "code",
   "execution_count": 91,
   "id": "d0bd1518",
   "metadata": {},
   "outputs": [
    {
     "data": {
      "text/plain": [
       "Crash_Ref_Number                0\n",
       "Crash_Hour                      0\n",
       "Crash_Street                    0\n",
       "Loc_Local_Government_Area       0\n",
       "Loc_Main_Roads_Region           0\n",
       "Crash_Roadway_Feature           0\n",
       "Crash_Speed_Limit               0\n",
       "Crash_Road_Surface_Condition    0\n",
       "Crash_Atmospheric_Condition     0\n",
       "Crash_Lighting_Condition        0\n",
       "Crash_Road_Horiz_Align          0\n",
       "Crash_Road_Vert_Align           0\n",
       "dtype: int64"
      ]
     },
     "execution_count": 91,
     "metadata": {},
     "output_type": "execute_result"
    }
   ],
   "source": [
    "factors_and_features.isnull().sum()"
   ]
  },
  {
   "cell_type": "code",
   "execution_count": 92,
   "id": "71adb470",
   "metadata": {},
   "outputs": [
    {
     "name": "stdout",
     "output_type": "stream",
     "text": [
      "<class 'pandas.core.frame.DataFrame'>\n",
      "RangeIndex: 353651 entries, 0 to 353650\n",
      "Data columns (total 12 columns):\n",
      " #   Column                        Non-Null Count   Dtype \n",
      "---  ------                        --------------   ----- \n",
      " 0   Crash_Ref_Number              353651 non-null  int64 \n",
      " 1   Crash_Hour                    353651 non-null  object\n",
      " 2   Crash_Street                  353651 non-null  object\n",
      " 3   Loc_Local_Government_Area     353651 non-null  object\n",
      " 4   Loc_Main_Roads_Region         353651 non-null  object\n",
      " 5   Crash_Roadway_Feature         353651 non-null  object\n",
      " 6   Crash_Speed_Limit             353651 non-null  object\n",
      " 7   Crash_Road_Surface_Condition  353651 non-null  object\n",
      " 8   Crash_Atmospheric_Condition   353651 non-null  object\n",
      " 9   Crash_Lighting_Condition      353651 non-null  object\n",
      " 10  Crash_Road_Horiz_Align        353651 non-null  object\n",
      " 11  Crash_Road_Vert_Align         353651 non-null  object\n",
      "dtypes: int64(1), object(11)\n",
      "memory usage: 32.4+ MB\n"
     ]
    }
   ],
   "source": [
    "factors_and_features.info()"
   ]
  },
  {
   "cell_type": "code",
   "execution_count": 77,
   "id": "a4c01759",
   "metadata": {},
   "outputs": [],
   "source": [
    "factors_and_features_renamed=factors_and_features.rename(columns={'Loc_Local_Government_Area': 'City', 'Loc_Main_Roads_Region':'Main_Roads_Region', 'Crash_Roadway_Feature':'Roadway_Feature', 'Crash_Speed_Limit':'Speed_Limit', 'Crash_Road_Surface_Condition':'Road_Surface_Condition', 'Crash_Atmospheric_Condition':'Atmospheric_Condition', 'Crash_Lighting_Condition':'Crash_Lighting_Condition   ', 'Crash_Road_Surface_Condition':'Road_Surface_Condition', 'Crash_Road_Surface_Condition':'Road_Surface_Condition'})"
   ]
  },
  {
   "cell_type": "code",
   "execution_count": null,
   "id": "aa9d1367",
   "metadata": {},
   "outputs": [],
   "source": [
    "factors_and_features_renamed.to_csv(\"factors_and_features.csv\")"
   ]
  },
  {
   "cell_type": "code",
   "execution_count": null,
   "id": "ffa6aaf9",
   "metadata": {},
   "outputs": [],
   "source": []
  }
 ],
 "metadata": {
  "kernelspec": {
   "display_name": "Python 3 (ipykernel)",
   "language": "python",
   "name": "python3"
  },
  "language_info": {
   "codemirror_mode": {
    "name": "ipython",
    "version": 3
   },
   "file_extension": ".py",
   "mimetype": "text/x-python",
   "name": "python",
   "nbconvert_exporter": "python",
   "pygments_lexer": "ipython3",
   "version": "3.9.7"
  }
 },
 "nbformat": 4,
 "nbformat_minor": 5
}
